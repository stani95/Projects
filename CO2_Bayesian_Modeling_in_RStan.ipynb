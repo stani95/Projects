{
 "cells": [
  {
   "cell_type": "code",
   "execution_count": 3,
   "metadata": {
    "collapsed": false
   },
   "outputs": [
   ],
   "source": [
    "library(rstan)"
   ]
  },
  {
   "cell_type": "code",
   "execution_count": 4,
   "metadata": {
    "collapsed": false
   },
   "outputs": [
   ],
   "source": [
    "# The Stan model\n",
    "\n",
    "num_data <- 339\n",
    "n <- 270\n",
    "n_future <- num_data - n\n",
    "\n",
    "data_full <- read.table(\"CS146_data_reduced.csv\", header=FALSE, sep=\",\")\n",
    "x <- data_full$V1\n",
    "y <- data_full$V2\n",
    "\n",
    "data <- list(\n",
    "  n = n,\n",
    "  n_future = n_future,\n",
    "  num_data = num_data,\n",
    "  x = x[1:num_data],\n",
    "  y = y[1:n])\n",
    "\n",
    "model <- \"\n",
    "data {\n",
    "  int<lower=0> n;\n",
    "  int<lower=0> n_future;\n",
    "  int<lower=0> num_data;\n",
    "  real x[num_data];\n",
    "  real y[n];\n",
    "}\n",
    "\n",
    "parameters {\n",
    "  real c_0;\n",
    "  real c_1;\n",
    "  real c_2;\n",
    "  real c_6_prime;\n",
    "  real c_7_prime1;\n",
    "  real c_7_prime2;\n",
    "  real c_8_prime;\n",
    "}\n",
    "\n",
    "transformed parameters {\n",
    "  real<lower=0> c_6;\n",
    "  real<lower=-pi(),upper=pi()> c_7;\n",
    "  real<lower=0> c_8;\n",
    "\n",
    "  c_6 = exp(c_6_prime);\n",
    "  c_7 = atan2(c_7_prime1, c_7_prime2);\n",
    "  c_8 = exp(c_8_prime);\n",
    "\n",
    "}\n",
    "\n",
    "model {\n",
    "  c_0 ~ normal(0, 1);\n",
    "  c_1 ~ normal(0, 1);\n",
    "  c_2 ~ normal(0, 1);\n",
    "  c_6_prime ~ normal(-4,1);\n",
    "  c_7_prime1 ~ normal(0, 1);\n",
    "  c_7_prime2 ~ normal(0, 1);\n",
    "  c_8_prime ~ normal(-4.4,3);\n",
    "  for(t in 1:n) {\n",
    "    y[t] ~ normal(c_0*x[t]*x[t] + c_1*x[t] + c_2 - c_6*(sin((2*pi()/365.25)*21791*x[t]-\n",
    "            c_7)+0.25*sin(2*(2*pi()/365.25)*21791*x[t]-2*c_7)), c_8);\n",
    "  }\n",
    "}\n",
    "\n",
    "generated quantities {\n",
    "  real y_future[n_future];\n",
    "  for(t in 1:n_future) {\n",
    "    y_future[t] = normal_rng(c_0*x[t+n]*x[t+n] + c_1*x[t+n] + c_2 - c_6*(sin((2*pi()\n",
    "            /365.25)*21791*x[t+n]-c_7)+0.25*sin(2*(2*pi()/365.25)*21791*x[t+n]-2*c_7))\n",
    "            , c_8);\n",
    "  }\n",
    "}\n",
    "\""
   ]
  },
  {
   "cell_type": "code",
   "execution_count": 9,
   "metadata": {
    "collapsed": false
   },
   "outputs": [
   ],
   "source": [
    "# Fit the Stan model.\n",
    "fit <- stan(\n",
    "  model_code = model,\n",
    "  data = data,\n",
    "  chains = 4,\n",
    "  warmup = 2000,\n",
    "  iter = 6000,\n",
    "  cores = 3,\n",
    "  refresh = 1000,\n",
    "  control = list(adapt_delta = 0.999)\n",
    ")\n",
    "\n",
    "print(fit, par=c('c_0', 'c_1', 'c_2', 'c_6', 'c_7', 'c_8'), probs=c(.05, .5, 0.95))\n",
    "samples <- extract(fit)"
   ]
  },
  {
   "cell_type": "code",
   "execution_count": 10,
   "metadata": {
    "collapsed": false
   },
   "outputs": [
   ],
   "source": [
    "# Plot confidence intervals\n",
    "results <- apply(samples$y_future, 2, quantile, probs=c(0.025, 0.975))\n",
    "\n",
    "plot(\n",
    "  x[1:(n+n_future)], y[1:(n+n_future)],\n",
    "  col='black', type='l',\n",
    "  xlim=c(x[1], x[n+n_future]),\n",
    "  ylim=c(min(c(results[1,], y)), max(c(results[2,], y))),\n",
    "  main='Data, future data, and predicted 95% interval')\n",
    "lines(x[n:(n+n_future)], c(y[n], results[1,]), lty='dashed', col='blue')\n",
    "lines(x[n:(n+n_future)], c(y[n], results[2,]), lty='dashed', col='blue')\n",
    "abline(v=n, col='red')"
   ]
  },
  {
   "cell_type": "code",
   "execution_count": 11,
   "metadata": {
    "collapsed": false
   },
   "outputs": [
   ],
   "source": [
    "# Plot of sample autocorrelation\n",
    "\n",
    "acf(samples$c_0, main=\"Autocorrelation of c_0 samples\")\n",
    "acf(samples$c_1, main=\"Autocorrelation of c_1 samples\")\n",
    "acf(samples$c_2, main=\"Autocorrelation of c_2 samples\")\n",
    "acf(samples$c_6, main=\"Autocorrelation of c_6 samples\")\n",
    "acf(samples$c_7, main=\"Autocorrelation of c_7 samples\")\n",
    "acf(samples$c_8, main=\"Autocorrelation of c_8 samples\")"
   ]
  },
  {
   "cell_type": "code",
   "execution_count": 4,
   "metadata": {
    "collapsed": false
   },
   "outputs": [
   ],
   "source": [
    "library(rstan)"
   ]
  },
  {
   "cell_type": "code",
   "execution_count": 6,
   "metadata": {
    "collapsed": false
   },
   "outputs": [
   ],
   "source": [
    "# The Stan model\n",
    "\n",
    "num_data <- 339\n",
    "n <- 270\n",
    "n_future <- 227\n",
    "\n",
    "data_full <- read.table(\"CS146_data_reduced.csv\", header=FALSE, sep=\",\")\n",
    "x <- data_full$V1\n",
    "y <- data_full$V2\n",
    "\n",
    "data <- list(\n",
    "  n = n,\n",
    "  n_future = n_future,\n",
    "  num_data = num_data,\n",
    "  x = x[1:num_data+n_future],\n",
    "  y = y[1:num_data])\n",
    "\n",
    "model <- \"\n",
    "data {\n",
    "  int<lower=0> n;\n",
    "  int<lower=0> n_future;\n",
    "  int<lower=0> num_data;\n",
    "  real x[num_data+n_future];\n",
    "  real y[num_data];\n",
    "}\n",
    "\n",
    "parameters {\n",
    "  real c_0;\n",
    "  real c_1;\n",
    "  real c_2;\n",
    "  real c_6_prime;\n",
    "  real c_7_prime1;\n",
    "  real c_7_prime2;\n",
    "  real c_8_prime;\n",
    "}\n",
    "\n",
    "transformed parameters {\n",
    "  real<lower=0> c_6;\n",
    "  real<lower=-pi(),upper=pi()> c_7;\n",
    "  real<lower=0> c_8;\n",
    "\n",
    "  c_6 = exp(c_6_prime);\n",
    "  c_7 = atan2(c_7_prime1, c_7_prime2);\n",
    "  c_8 = exp(c_8_prime);\n",
    "\n",
    "}\n",
    "\n",
    "model {\n",
    "  c_0 ~ normal(0.33, 0.1);\n",
    "  c_1 ~ normal(0.28, 0.1);\n",
    "  c_2 ~ normal(0.1, 0.1);\n",
    "  c_6_prime ~ normal(1.16,0.1);\n",
    "  c_7_prime1 ~ normal(0, 1);\n",
    "  c_7_prime2 ~ normal(0, 1);\n",
    "  c_8_prime ~ normal(-4.4,2);\n",
    "  for(t in 1:num_data) {\n",
    "    y[t] ~ normal((c_0*(21791*x[t])*(21791*x[t]) + c_1*(21791*x[t]) + c_2 - 300\n",
    "        - c_6*(sin((2*pi()/365.25)*21791*x[t]-c_7)+0.25*sin(2*(2*pi()/365.25)\n",
    "        *21791*x[t]-2*c_7)))/150, c_8);\n",
    "  }\n",
    "}\n",
    "\n",
    "generated quantities {\n",
    "  real y_future[n_future];\n",
    "  for(t in 1:n_future) {\n",
    "    y_future[t] = normal_rng((c_0*(21791*(x[t+num_data]))*(21791*(x[t+num_data]))\n",
    "        + c_1*(21791*(x[t+num_data])) + c_2 - 300 - c_6*(sin((2*pi()/365.25)*21791\n",
    "        *(x[t+num_data])-c_7)+0.25*sin(2*(2*pi()/365.25)*21791*(x[t+num_data])\n",
    "        -2*c_7)))/150, c_8);\n",
    "  }\n",
    "}\n",
    "\""
   ]
  },
  {
   "cell_type": "code",
   "execution_count": 0,
   "metadata": {
    "collapsed": false
   },
   "outputs": [
   ],
   "source": [
    "# Fit the Stan model.\n",
    "fit <- stan(\n",
    "  model_code = model,\n",
    "  data = data,\n",
    "  chains = 4,\n",
    "  warmup = 2000,\n",
    "  iter = 6000,\n",
    "  cores = 1,\n",
    "  refresh = 1000,\n",
    "  control = list(adapt_delta = 0.999)\n",
    ")\n",
    "\n",
    "print(fit, par=c('c_0', 'c_1', 'c_2', 'c_6', 'c_7', 'c_8'), probs=c(.05, .5, 0.95))\n",
    "samples <- extract(fit)"
   ]
  },
  {
   "cell_type": "code",
   "execution_count": 0,
   "metadata": {
    "collapsed": false
   },
   "outputs": [
   ],
   "source": [
    "# Plot of confidence intervals\n",
    "results <- apply(samples$y_future, 2, quantile, probs=c(0.025, 0.975))\n",
    "\n",
    "plot(\n",
    "  x[1:(num_data+n_future)], y[1:(num_data+n_future)],\n",
    "  col='black', type='l',\n",
    "  xlim=c(x[1], x[num_data+n_future]),\n",
    "  ylim=c(min(c(results[1,], y)), max(c(results[2,], y))),\n",
    "  main='Data, future data, and predicted 95% interval')\n",
    "lines(x[num_data:(num_data+n_future)], c(y[num_data], results[1,])\n",
    "        , lty='dashed', col='blue')\n",
    "lines(x[num_data:(num_data+n_future)], c(y[num_data], results[2,])\n",
    "        , lty='dashed', col='blue')\n",
    "abline(v=n, col='red')"
   ]
  },
  {
   "cell_type": "code",
   "execution_count": 0,
   "metadata": {
    "collapsed": false
   },
   "outputs": [
   ],
   "source": [
    "# Plot of sample autocorrelation\n",
    "\n",
    "acf(samples$c_0, main=\"Autocorrelation of c_0 samples\")\n",
    "acf(samples$c_1, main=\"Autocorrelation of c_1 samples\")\n",
    "acf(samples$c_2, main=\"Autocorrelation of c_2 samples\")\n",
    "acf(samples$c_6, main=\"Autocorrelation of c_6 samples\")\n",
    "acf(samples$c_7, main=\"Autocorrelation of c_7 samples\")\n",
    "acf(samples$c_8, main=\"Autocorrelation of c_8 samples\")"
   ]
  }
 ],
 "metadata": {
  "kernelspec": {
   "display_name": "R (R-Project)",
   "language": "r",
   "metadata": {
    "cocalc": {
     "description": "R statistical programming language",
     "priority": 10,
     "url": "https://www.r-project.org/"
    }
   },
   "name": "ir"
  },
  "language_info": {
   "codemirror_mode": "r",
   "file_extension": ".r",
   "mimetype": "text/x-r-source",
   "name": "R",
   "pygments_lexer": "r",
   "version": "3.4.4"
  }
 },
 "nbformat": 4,
 "nbformat_minor": 0
}